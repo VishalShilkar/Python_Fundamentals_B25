{
 "cells": [
  {
   "cell_type": "code",
   "execution_count": 2,
   "metadata": {},
   "outputs": [
    {
     "name": "stdout",
     "output_type": "stream",
     "text": [
      "['pen', 'pensil', 'eraser', 'sharpner', 'box']\n"
     ]
    }
   ],
   "source": [
    "bucket = ['pen', 'pensil','eraser','sharpner','box']\n",
    "\n",
    "print(bucket)"
   ]
  },
  {
   "cell_type": "code",
   "execution_count": 3,
   "metadata": {},
   "outputs": [
    {
     "name": "stdout",
     "output_type": "stream",
     "text": [
      "I want eraser\n"
     ]
    }
   ],
   "source": [
    "print(f\"I want {bucket[2]}\")"
   ]
  },
  {
   "cell_type": "code",
   "execution_count": 7,
   "metadata": {},
   "outputs": [
    {
     "name": "stdout",
     "output_type": "stream",
     "text": [
      "pen\n",
      "pensil\n",
      "eraser\n",
      "sharpner\n",
      "box\n"
     ]
    }
   ],
   "source": [
    "for x in bucket:\n",
    "    print(x)"
   ]
  },
  {
   "cell_type": "code",
   "execution_count": 8,
   "metadata": {},
   "outputs": [
    {
     "name": "stdout",
     "output_type": "stream",
     "text": [
      "I want pen\n",
      "I want pensil\n",
      "I want eraser\n",
      "I want sharpner\n",
      "I want box\n"
     ]
    }
   ],
   "source": [
    "for x in bucket:\n",
    "    print(f\"I want {x}\")"
   ]
  },
  {
   "cell_type": "code",
   "execution_count": 12,
   "metadata": {},
   "outputs": [
    {
     "name": "stdout",
     "output_type": "stream",
     "text": [
      "I want pen\n",
      "Move to Next pen \n",
      "\n",
      "I want pensil\n",
      "Move to Next pensil \n",
      "\n",
      "I want eraser\n",
      "Move to Next eraser \n",
      "\n",
      "I want sharpner\n",
      "Move to Next sharpner \n",
      "\n",
      "I want box\n",
      "Move to Next box \n",
      "\n"
     ]
    }
   ],
   "source": [
    "for x in bucket:\n",
    "    print(f\"I want {x}\")\n",
    "    print(f\"Move to Next {x} \\n\")"
   ]
  },
  {
   "cell_type": "code",
   "execution_count": 15,
   "metadata": {},
   "outputs": [
    {
     "name": "stdout",
     "output_type": "stream",
     "text": [
      "I want pen\n",
      "I want pensil\n",
      "I want eraser\n",
      "I want sharpner\n",
      "I want box\n",
      "\n",
      " Out of For loop \n",
      "\n"
     ]
    }
   ],
   "source": [
    "for x in bucket:\n",
    "    print(f\"I want {x}\")\n",
    "    \n",
    "print(f\"\\n Out of For loop \\n\")"
   ]
  },
  {
   "cell_type": "code",
   "execution_count": null,
   "metadata": {},
   "outputs": [],
   "source": []
  },
  {
   "cell_type": "code",
   "execution_count": null,
   "metadata": {},
   "outputs": [],
   "source": []
  },
  {
   "cell_type": "code",
   "execution_count": null,
   "metadata": {},
   "outputs": [],
   "source": []
  }
 ],
 "metadata": {
  "kernelspec": {
   "display_name": "Python 3",
   "language": "python",
   "name": "python3"
  },
  "language_info": {
   "codemirror_mode": {
    "name": "ipython",
    "version": 3
   },
   "file_extension": ".py",
   "mimetype": "text/x-python",
   "name": "python",
   "nbconvert_exporter": "python",
   "pygments_lexer": "ipython3",
   "version": "3.7.6"
  }
 },
 "nbformat": 4,
 "nbformat_minor": 4
}
